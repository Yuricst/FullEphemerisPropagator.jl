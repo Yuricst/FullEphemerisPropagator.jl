{
 "cells": [
  {
   "cell_type": "markdown",
   "id": "340adc94-17cc-456c-9785-0dfa7c23d9ff",
   "metadata": {},
   "source": [
    "# Integrator comparisons\n",
    "\n",
    "Yuri Shimane, 2024.03.08"
   ]
  },
  {
   "cell_type": "code",
   "execution_count": 3,
   "id": "c9a80551-8e1c-49dc-899a-48897e6eb9ae",
   "metadata": {},
   "outputs": [
    {
     "name": "stdout",
     "output_type": "stream",
     "text": [
      "\u001b[36m\u001b[1mProject\u001b[22m\u001b[39m FullEphemerisPropagator v0.1.0\n",
      "\u001b[32m\u001b[1mStatus\u001b[22m\u001b[39m `~/Documents/codes/dev-jl/FullEphemerisPropagator.jl/Project.toml`\n",
      "\u001b[32m⌃\u001b[39m \u001b[90m[0c46a032] \u001b[39mDifferentialEquations v7.12.0\n",
      "\u001b[32m⌃\u001b[39m \u001b[90m[e9467ef8] \u001b[39mGLMakie v0.9.8\n",
      "  \u001b[90m[7073ff75] \u001b[39mIJulia v1.24.2\n",
      "  \u001b[90m[5bab7191] \u001b[39mSPICE v0.2.3\n",
      "  \u001b[90m[d1185830] \u001b[39mSymbolicUtils v1.5.0\n",
      "\u001b[32m⌃\u001b[39m \u001b[90m[0c5d862f] \u001b[39mSymbolics v5.16.1\n",
      "  \u001b[90m[37e2e46d] \u001b[39mLinearAlgebra\n",
      "  \u001b[90m[de0858da] \u001b[39mPrintf\n",
      "\u001b[36m\u001b[1mInfo\u001b[22m\u001b[39m Packages marked with \u001b[32m⌃\u001b[39m have new versions available and may be upgradable.\n"
     ]
    }
   ],
   "source": [
    "using Pkg\n",
    "Pkg.status()"
   ]
  },
  {
   "cell_type": "code",
   "execution_count": 5,
   "id": "7850c0d8-eec4-459a-adde-b8ebdbef4221",
   "metadata": {},
   "outputs": [],
   "source": [
    "using GLMakie\n",
    "using SPICE\n",
    "using OrdinaryDiffEq"
   ]
  },
  {
   "cell_type": "code",
   "execution_count": 59,
   "id": "8f1b9a63-fff8-4340-8e91-675d13e7ff30",
   "metadata": {},
   "outputs": [
    {
     "name": "stderr",
     "output_type": "stream",
     "text": [
      "WARNING: replacing module FullEphemerisPropagator.\n"
     ]
    },
    {
     "data": {
      "text/plain": [
       "Main.FullEphemerisPropagator"
      ]
     },
     "execution_count": 59,
     "metadata": {},
     "output_type": "execute_result"
    }
   ],
   "source": [
    "include(joinpath(@__DIR__, \"../src/FullEphemerisPropagator.jl\"))"
   ]
  },
  {
   "cell_type": "code",
   "execution_count": 60,
   "id": "5db9ea9a-0e68-427f-94ac-d40342c6850b",
   "metadata": {},
   "outputs": [
    {
     "data": {
      "text/plain": [
       "3000.0"
      ]
     },
     "execution_count": 60,
     "metadata": {},
     "output_type": "execute_result"
    }
   ],
   "source": [
    "# furnish spice kernels\n",
    "spice_dir = ENV[\"SPICE\"]\n",
    "\n",
    "# get spice kernels\n",
    "furnsh(joinpath(spice_dir, \"lsk\", \"naif0012.tls\"))\n",
    "furnsh(joinpath(spice_dir, \"spk\", \"de440.bsp\"))\n",
    "\n",
    "# define parameters\n",
    "mus = [\n",
    "    4.9028000661637961E+03,\n",
    "    3.9860043543609598E+05,\n",
    "    1.3271244004193938E+11,\n",
    "]\n",
    "naif_ids = [\"301\", \"399\", \"10\"]\n",
    "naif_frame = \"J2000\"\n",
    "abcorr = \"NONE\"\n",
    "lstar = 3000.0"
   ]
  },
  {
   "cell_type": "code",
   "execution_count": 61,
   "id": "78f6fe86-9d55-47fb-be43-b678a537812c",
   "metadata": {},
   "outputs": [
    {
     "data": {
      "text/plain": [
       "6-element Vector{Float64}:\n",
       "  -0.03344377115230989\n",
       "   5.7624151996473545\n",
       " -22.743438743043676\n",
       "  -0.046526421787245704\n",
       "   0.029709480647552224\n",
       "   0.004309142532513644"
      ]
     },
     "execution_count": 61,
     "metadata": {},
     "output_type": "execute_result"
    }
   ],
   "source": [
    "et0 = 946728069.3271508\n",
    "state0 = [-0.03344377115230989, 5.7624151996473545, -22.743438743043676, \n",
    "          -0.046526421787245704, 0.029709480647552224, 0.004309142532513644]"
   ]
  },
  {
   "cell_type": "code",
   "execution_count": 62,
   "id": "c8d197e6-3a17-4400-ad2c-2d8a154d69d0",
   "metadata": {},
   "outputs": [],
   "source": [
    "# instantiate propagator\n",
    "prop = FullEphemerisPropagator.Propagator(\n",
    "    Vern8(),\n",
    "    lstar,\n",
    "    mus,\n",
    "    naif_ids;\n",
    "    naif_frame = naif_frame,\n",
    "    reltol = 1e-12,\n",
    "    abstol = 1e-12,\n",
    ");"
   ]
  },
  {
   "cell_type": "code",
   "execution_count": null,
   "id": "f683f524-e844-4930-b59f-487e99c88458",
   "metadata": {},
   "outputs": [],
   "source": [
    "# solve\n",
    "tspan = (0.0, FullEphemerisPropagator.sec2TU(prop, 5 * 6.55 * 86400))\n",
    "sol = FullEphemerisPropagator.propagate(prop, et0, state0, tspan)\n",
    "@show sol.u[end];"
   ]
  },
  {
   "cell_type": "code",
   "execution_count": null,
   "id": "64e3b535-24bc-48d7-b145-97c5049529d3",
   "metadata": {},
   "outputs": [],
   "source": [
    "# plot with GLMakie\n",
    "fig = Figure(size=(600,400), fontsize=22)\n",
    "ax1 = Axis3(fig[1, 1], aspect=:data)\n",
    "lines!(ax1, sol[1,:], sol[2,:], sol[3,:])\n",
    "\n",
    "# Generate points on the sphere\n",
    "nsph = 30\n",
    "θ = range(0, stop=2π, length=nsph)\n",
    "ϕ = range(0, stop=π, length=nsph)\n",
    "R = 1737.4/lstar\n",
    "center = [0, 0, 0]\n",
    "xsphere = [center[1] + R * cos(θ[i]) * sin(ϕ[j]) for j in 1:nsph, i in 1:nsph]\n",
    "ysphere = [center[2] + R * sin(θ[i]) * sin(ϕ[j]) for j in 1:nsph, i in 1:nsph]\n",
    "zsphere = [center[3] + R * cos(ϕ[j]) for j in 1:nsph, i in 1:nsph]\n",
    "wireframe!(ax1, xsphere, ysphere, zsphere, color=:grey, linewidth=0.5)\n",
    "fig"
   ]
  },
  {
   "cell_type": "code",
   "execution_count": null,
   "id": "d1cf30c7-7ba6-4f35-878a-01f588a519d9",
   "metadata": {},
   "outputs": [],
   "source": []
  },
  {
   "cell_type": "code",
   "execution_count": null,
   "id": "55b614c8-4e6c-41df-8ac0-ce4f7e14b469",
   "metadata": {},
   "outputs": [],
   "source": []
  },
  {
   "cell_type": "code",
   "execution_count": null,
   "id": "04f307a4-264d-48aa-914a-de45952b3f5d",
   "metadata": {},
   "outputs": [],
   "source": []
  },
  {
   "cell_type": "code",
   "execution_count": null,
   "id": "f821bced-5e8d-4d44-bfd5-62bfa5e7f018",
   "metadata": {},
   "outputs": [],
   "source": []
  },
  {
   "cell_type": "code",
   "execution_count": null,
   "id": "111901fb-9087-42eb-8eca-8a6e82c89082",
   "metadata": {},
   "outputs": [],
   "source": []
  }
 ],
 "metadata": {
  "kernelspec": {
   "display_name": "Julia 1.10.0",
   "language": "julia",
   "name": "julia-1.10"
  },
  "language_info": {
   "file_extension": ".jl",
   "mimetype": "application/julia",
   "name": "julia",
   "version": "1.10.0"
  }
 },
 "nbformat": 4,
 "nbformat_minor": 5
}
